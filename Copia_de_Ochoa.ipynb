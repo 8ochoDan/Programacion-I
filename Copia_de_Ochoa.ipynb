{
  "nbformat": 4,
  "nbformat_minor": 0,
  "metadata": {
    "colab": {
      "provenance": []
    },
    "kernelspec": {
      "name": "python3",
      "display_name": "Python 3"
    },
    "language_info": {
      "name": "python"
    }
  },
  "cells": [
    {
      "cell_type": "code",
      "execution_count": null,
      "metadata": {
        "id": "z8ll8hMPCdpA"
      },
      "outputs": [],
      "source": []
    },
    {
      "cell_type": "markdown",
      "source": [
        "#TAREA 1 A continuación se elabora la solución de las preguntas 8 y 9 del libro\n"
      ],
      "metadata": {
        "id": "HReCz6dHDlPU"
      }
    },
    {
      "cell_type": "code",
      "source": [
        "\n",
        "#Se configuran las librerias para nuestro entorno de trabajo\n",
        "import os, sys\n",
        "from google.colab import drive\n",
        "drive.mount('content/drive')\n",
        "nb_path = 'content/notebooks'\n",
        "os.symlink('/content/drive/My drive/Colab Notebooks', nb_path)\n",
        "sys.path.insert(0,nb_path)\n",
        "\n"
      ],
      "metadata": {
        "colab": {
          "base_uri": "https://localhost:8080/",
          "height": 356
        },
        "id": "gh0aI7jXD3Kt",
        "outputId": "69ac1708-652d-4174-919c-7f2b9edc2955"
      },
      "execution_count": null,
      "outputs": [
        {
          "output_type": "error",
          "ename": "ValueError",
          "evalue": "Mountpoint must be in a directory that exists",
          "traceback": [
            "\u001b[0;31m---------------------------------------------------------------------------\u001b[0m",
            "\u001b[0;31mValueError\u001b[0m                                Traceback (most recent call last)",
            "\u001b[0;32m<ipython-input-14-fd3f995514bd>\u001b[0m in \u001b[0;36m<cell line: 4>\u001b[0;34m()\u001b[0m\n\u001b[1;32m      2\u001b[0m \u001b[0;32mimport\u001b[0m \u001b[0mos\u001b[0m\u001b[0;34m,\u001b[0m \u001b[0msys\u001b[0m\u001b[0;34m\u001b[0m\u001b[0;34m\u001b[0m\u001b[0m\n\u001b[1;32m      3\u001b[0m \u001b[0;32mfrom\u001b[0m \u001b[0mgoogle\u001b[0m\u001b[0;34m.\u001b[0m\u001b[0mcolab\u001b[0m \u001b[0;32mimport\u001b[0m \u001b[0mdrive\u001b[0m\u001b[0;34m\u001b[0m\u001b[0;34m\u001b[0m\u001b[0m\n\u001b[0;32m----> 4\u001b[0;31m \u001b[0mdrive\u001b[0m\u001b[0;34m.\u001b[0m\u001b[0mmount\u001b[0m\u001b[0;34m(\u001b[0m\u001b[0;34m'content/drive'\u001b[0m\u001b[0;34m)\u001b[0m\u001b[0;34m\u001b[0m\u001b[0;34m\u001b[0m\u001b[0m\n\u001b[0m\u001b[1;32m      5\u001b[0m \u001b[0mnb_path\u001b[0m \u001b[0;34m=\u001b[0m \u001b[0;34m'content/notebooks'\u001b[0m\u001b[0;34m\u001b[0m\u001b[0;34m\u001b[0m\u001b[0m\n\u001b[1;32m      6\u001b[0m \u001b[0mos\u001b[0m\u001b[0;34m.\u001b[0m\u001b[0msymlink\u001b[0m\u001b[0;34m(\u001b[0m\u001b[0;34m'/content/drive/My drive/Colab Notebooks'\u001b[0m\u001b[0;34m,\u001b[0m \u001b[0mnb_path\u001b[0m\u001b[0;34m)\u001b[0m\u001b[0;34m\u001b[0m\u001b[0;34m\u001b[0m\u001b[0m\n",
            "\u001b[0;32m/usr/local/lib/python3.10/dist-packages/google/colab/drive.py\u001b[0m in \u001b[0;36mmount\u001b[0;34m(mountpoint, force_remount, timeout_ms, readonly)\u001b[0m\n\u001b[1;32m     98\u001b[0m \u001b[0;32mdef\u001b[0m \u001b[0mmount\u001b[0m\u001b[0;34m(\u001b[0m\u001b[0mmountpoint\u001b[0m\u001b[0;34m,\u001b[0m \u001b[0mforce_remount\u001b[0m\u001b[0;34m=\u001b[0m\u001b[0;32mFalse\u001b[0m\u001b[0;34m,\u001b[0m \u001b[0mtimeout_ms\u001b[0m\u001b[0;34m=\u001b[0m\u001b[0;36m120000\u001b[0m\u001b[0;34m,\u001b[0m \u001b[0mreadonly\u001b[0m\u001b[0;34m=\u001b[0m\u001b[0;32mFalse\u001b[0m\u001b[0;34m)\u001b[0m\u001b[0;34m:\u001b[0m\u001b[0;34m\u001b[0m\u001b[0;34m\u001b[0m\u001b[0m\n\u001b[1;32m     99\u001b[0m   \u001b[0;34m\"\"\"Mount your Google Drive at the specified mountpoint path.\"\"\"\u001b[0m\u001b[0;34m\u001b[0m\u001b[0;34m\u001b[0m\u001b[0m\n\u001b[0;32m--> 100\u001b[0;31m   return _mount(\n\u001b[0m\u001b[1;32m    101\u001b[0m       \u001b[0mmountpoint\u001b[0m\u001b[0;34m,\u001b[0m\u001b[0;34m\u001b[0m\u001b[0;34m\u001b[0m\u001b[0m\n\u001b[1;32m    102\u001b[0m       \u001b[0mforce_remount\u001b[0m\u001b[0;34m=\u001b[0m\u001b[0mforce_remount\u001b[0m\u001b[0;34m,\u001b[0m\u001b[0;34m\u001b[0m\u001b[0;34m\u001b[0m\u001b[0m\n",
            "\u001b[0;32m/usr/local/lib/python3.10/dist-packages/google/colab/drive.py\u001b[0m in \u001b[0;36m_mount\u001b[0;34m(mountpoint, force_remount, timeout_ms, ephemeral, readonly)\u001b[0m\n\u001b[1;32m    196\u001b[0m     \u001b[0mnormed\u001b[0m \u001b[0;34m=\u001b[0m \u001b[0m_os\u001b[0m\u001b[0;34m.\u001b[0m\u001b[0mpath\u001b[0m\u001b[0;34m.\u001b[0m\u001b[0mnormpath\u001b[0m\u001b[0;34m(\u001b[0m\u001b[0mmountpoint\u001b[0m\u001b[0;34m)\u001b[0m\u001b[0;34m\u001b[0m\u001b[0;34m\u001b[0m\u001b[0m\n\u001b[1;32m    197\u001b[0m     \u001b[0;32mif\u001b[0m \u001b[0;34m'/'\u001b[0m \u001b[0;32min\u001b[0m \u001b[0mnormed\u001b[0m \u001b[0;32mand\u001b[0m \u001b[0;32mnot\u001b[0m \u001b[0m_os\u001b[0m\u001b[0;34m.\u001b[0m\u001b[0mpath\u001b[0m\u001b[0;34m.\u001b[0m\u001b[0mexists\u001b[0m\u001b[0;34m(\u001b[0m\u001b[0m_os\u001b[0m\u001b[0;34m.\u001b[0m\u001b[0mpath\u001b[0m\u001b[0;34m.\u001b[0m\u001b[0mdirname\u001b[0m\u001b[0;34m(\u001b[0m\u001b[0mnormed\u001b[0m\u001b[0;34m)\u001b[0m\u001b[0;34m)\u001b[0m\u001b[0;34m:\u001b[0m\u001b[0;34m\u001b[0m\u001b[0;34m\u001b[0m\u001b[0m\n\u001b[0;32m--> 198\u001b[0;31m       \u001b[0;32mraise\u001b[0m \u001b[0mValueError\u001b[0m\u001b[0;34m(\u001b[0m\u001b[0;34m'Mountpoint must be in a directory that exists'\u001b[0m\u001b[0;34m)\u001b[0m\u001b[0;34m\u001b[0m\u001b[0;34m\u001b[0m\u001b[0m\n\u001b[0m\u001b[1;32m    199\u001b[0m   \u001b[0;32mexcept\u001b[0m\u001b[0;34m:\u001b[0m\u001b[0;34m\u001b[0m\u001b[0;34m\u001b[0m\u001b[0m\n\u001b[1;32m    200\u001b[0m     \u001b[0md\u001b[0m\u001b[0;34m.\u001b[0m\u001b[0mkill\u001b[0m\u001b[0;34m(\u001b[0m\u001b[0m_signal\u001b[0m\u001b[0;34m.\u001b[0m\u001b[0mSIGKILL\u001b[0m\u001b[0;34m)\u001b[0m\u001b[0;34m\u001b[0m\u001b[0;34m\u001b[0m\u001b[0m\n",
            "\u001b[0;31mValueError\u001b[0m: Mountpoint must be in a directory that exists"
          ]
        }
      ]
    },
    {
      "cell_type": "code",
      "source": [
        "!pip install --target=$nb_path nacal"
      ],
      "metadata": {
        "colab": {
          "base_uri": "https://localhost:8080/"
        },
        "id": "BShRGIulGw1C",
        "outputId": "53090c05-047b-4140-cbfc-e4ea0d15d73e"
      },
      "execution_count": null,
      "outputs": [
        {
          "output_type": "stream",
          "name": "stdout",
          "text": [
            "Collecting nacal\n",
            "  Downloading nacal-0.1.30-py3-none-any.whl (33 kB)\n",
            "Requirement already satisfied: sympy>=1.1.0 in /usr/local/lib/python3.10/dist-packages (from nacal) (1.12)\n",
            "Requirement already satisfied: mpmath>=0.19 in /usr/local/lib/python3.10/dist-packages (from sympy>=1.1.0->nacal) (1.3.0)\n",
            "Installing collected packages: nacal\n",
            "Successfully installed nacal-0.1.30\n"
          ]
        }
      ]
    },
    {
      "cell_type": "code",
      "source": [
        "from nacal import *\n",
        "from IPython.display import display, Math, Latex\n",
        "b = Vector ([0, 4, 6])\n",
        "print(2*b)\n",
        "Latex(latex(2*b))"
      ],
      "metadata": {
        "colab": {
          "base_uri": "https://localhost:8080/",
          "height": 95
        },
        "id": "HkvQMC1fHKck",
        "outputId": "5400b2c0-1bc9-445e-a2ad-cf46113a4b04"
      },
      "execution_count": null,
      "outputs": [
        {
          "output_type": "stream",
          "name": "stdout",
          "text": [
            "Vector([0, 8, 12])\n"
          ]
        },
        {
          "output_type": "execute_result",
          "data": {
            "text/plain": [
              "<IPython.core.display.Latex object>"
            ],
            "text/latex": "\\begin{pmatrix}0\\\\ 8\\\\ 12\\end{pmatrix}"
          },
          "metadata": {},
          "execution_count": 4
        }
      ]
    },
    {
      "cell_type": "markdown",
      "source": [
        "##PREGUNTA 1\n",
        "¿Es verdad que $$\\begin{pmatrix}1\\\\2\\\\3\\\\\\end{pmatrix}+\\begin{pmatrix}4\\\\5\\\\6\\\\\\end{pmatrix}=\\begin{pmatrix}4\\\\5\\\\6\\\\\\end{pmatrix}+\\begin{pmatrix}1\\\\2\\\\3\\\\\\end{pmatrix}$$\n",
        "\n",
        "¿Es cierto solo para los números del ejemplo? o ¿es una regla general para cualquier par de vectores?"
      ],
      "metadata": {
        "id": "zHsTclrkH8js"
      }
    },
    {
      "cell_type": "markdown",
      "source": [],
      "metadata": {
        "id": "Ryj4NqyTGqFB"
      }
    },
    {
      "cell_type": "code",
      "source": [
        "n = Vector( [1, 2, 3] )\n",
        "m = Vector( [4, 5, 6] )\n",
        "display(Latex(latex(n+m)))\n",
        "display(Latex(latex(m+n)))"
      ],
      "metadata": {
        "colab": {
          "base_uri": "https://localhost:8080/",
          "height": 139
        },
        "id": "ylh_697LH-zd",
        "outputId": "91767840-ce8e-4a5e-8909-2a55cf1e150d"
      },
      "execution_count": null,
      "outputs": [
        {
          "output_type": "display_data",
          "data": {
            "text/plain": [
              "<IPython.core.display.Latex object>"
            ],
            "text/latex": "\\begin{pmatrix}5\\\\ 7\\\\ 9\\end{pmatrix}"
          },
          "metadata": {}
        },
        {
          "output_type": "display_data",
          "data": {
            "text/plain": [
              "<IPython.core.display.Latex object>"
            ],
            "text/latex": "\\begin{pmatrix}5\\\\ 7\\\\ 9\\end{pmatrix}"
          },
          "metadata": {}
        }
      ]
    },
    {
      "cell_type": "markdown",
      "source": [
        "###La respuesta es correcta para ambos vectores\n"
      ],
      "metadata": {
        "id": "lVtyigqiJHBm"
      }
    },
    {
      "cell_type": "markdown",
      "source": [
        "##Pregunta 2\n",
        "¿Es verdad que $$\\begin{pmatrix}1\\\\2\\\\\\end{pmatrix}\\begin{pmatrix}\\begin{pmatrix}4\\\\5\\\\\\end{pmatrix}+\\begin{pmatrix}1\\\\0\\\\\\end{pmatrix}\\end{pmatrix}=\\begin{pmatrix}\\begin{pmatrix}1\\\\2\\\\\\end{pmatrix}+\\begin{pmatrix}4\\\\5\\\\\\end{pmatrix}\\end{pmatrix}+\\begin{pmatrix}1\\\\0\\\\\\end{pmatrix}$$\n",
        "*El parentesis significa que primero hay que hacer la suma dentro del parentesis, y al vector resultante sumarle el vector de fuera.*\n",
        "\n",
        "¿Es cierto solo para los números del ejemplo? o ¿es una regla general para cualquier trio de vectores?"
      ],
      "metadata": {
        "id": "Q20mgCNNJX_M"
      }
    },
    {
      "cell_type": "code",
      "source": [
        "m=Vector([1,2])\n",
        "n=Vector([4,5])\n",
        "o=Vector([1,0])\n",
        "display(Latex(latex(m+(n+o))))\n",
        "display(Latex(latex((m+n)+o)))"
      ],
      "metadata": {
        "colab": {
          "base_uri": "https://localhost:8080/",
          "height": 98
        },
        "id": "2sq80o1RJZlH",
        "outputId": "610a5b27-0e5b-410f-8167-47e7df076028"
      },
      "execution_count": null,
      "outputs": [
        {
          "output_type": "display_data",
          "data": {
            "text/plain": [
              "<IPython.core.display.Latex object>"
            ],
            "text/latex": "\\begin{pmatrix}6\\\\ 7\\end{pmatrix}"
          },
          "metadata": {}
        },
        {
          "output_type": "display_data",
          "data": {
            "text/plain": [
              "<IPython.core.display.Latex object>"
            ],
            "text/latex": "\\begin{pmatrix}6\\\\ 7\\end{pmatrix}"
          },
          "metadata": {}
        }
      ]
    },
    {
      "cell_type": "markdown",
      "source": [
        "### Es cierto para cualquier trio de vectores"
      ],
      "metadata": {
        "id": "TgBhxr2pJl4v"
      }
    },
    {
      "cell_type": "markdown",
      "source": [
        "## Pregunta 3\n",
        "¿Es verdad que $$\\begin{pmatrix}4\\\\5\\\\6\\\\\\end{pmatrix}+\\begin{pmatrix}0\\\\0\\\\0\\\\\\end{pmatrix}=\\begin{pmatrix}4\\\\5\\\\6\\\\\\end{pmatrix}$$\n",
        "\n",
        "¿Es cierto solo para los vectores del ejemplo? o ¿Es una regla general para cualquier par de vectores?"
      ],
      "metadata": {
        "id": "eObYYj0kJuPn"
      }
    },
    {
      "cell_type": "code",
      "source": [
        "m=Vector([4,5,6])\n",
        "n=Vector([7,8,9])\n",
        "o=Vector([0,0,0])\n",
        "display(Latex(latex(m+o)))\n",
        "display(Latex(latex(n+o)))"
      ],
      "metadata": {
        "colab": {
          "base_uri": "https://localhost:8080/",
          "height": 139
        },
        "id": "I3ZvIWywJvXJ",
        "outputId": "3f386cf2-b7ac-47d6-95e3-dbcba4b286a9"
      },
      "execution_count": null,
      "outputs": [
        {
          "output_type": "display_data",
          "data": {
            "text/plain": [
              "<IPython.core.display.Latex object>"
            ],
            "text/latex": "\\begin{pmatrix}4\\\\ 5\\\\ 6\\end{pmatrix}"
          },
          "metadata": {}
        },
        {
          "output_type": "display_data",
          "data": {
            "text/plain": [
              "<IPython.core.display.Latex object>"
            ],
            "text/latex": "\\begin{pmatrix}7\\\\ 8\\\\ 9\\end{pmatrix}"
          },
          "metadata": {}
        }
      ]
    },
    {
      "cell_type": "markdown",
      "source": [
        "### Esto es cierto para cualquier par de vectores"
      ],
      "metadata": {
        "id": "TI2HElhDKBTf"
      }
    },
    {
      "cell_type": "markdown",
      "source": [
        "## Pregunta 4\n",
        "\n",
        "¿Es verdad que $$\\begin{pmatrix}4\\\\5\\\\6\\\\\\end{pmatrix}+\\begin{pmatrix}-4\\\\-5\\\\-6\\\\\\end{pmatrix}=\\begin{pmatrix}0\\\\0\\\\0\\\\\\end{pmatrix}$$\n",
        "\n",
        "¿Es cierto solo para los vectores del ejemplo? o ¿es una regla general para cualquier par de vectores?"
      ],
      "metadata": {
        "id": "gcipBzzVKFlR"
      }
    },
    {
      "cell_type": "code",
      "source": [
        "m=Vector([4,5,6])\n",
        "n=Vector([-4,-5,-6])\n",
        "o=Vector([7,8,9])\n",
        "p=Vector([-7,-8,-9])\n",
        "display(Latex(latex(m+n)))\n",
        "display(Latex(latex(o+p)))"
      ],
      "metadata": {
        "colab": {
          "base_uri": "https://localhost:8080/",
          "height": 139
        },
        "id": "vhwkHzx3KInS",
        "outputId": "a52e444c-562b-41c6-f7d3-341b3782fe73"
      },
      "execution_count": null,
      "outputs": [
        {
          "output_type": "display_data",
          "data": {
            "text/plain": [
              "<IPython.core.display.Latex object>"
            ],
            "text/latex": "\\begin{pmatrix}0\\\\ 0\\\\ 0\\end{pmatrix}"
          },
          "metadata": {}
        },
        {
          "output_type": "display_data",
          "data": {
            "text/plain": [
              "<IPython.core.display.Latex object>"
            ],
            "text/latex": "\\begin{pmatrix}0\\\\ 0\\\\ 0\\end{pmatrix}"
          },
          "metadata": {}
        }
      ]
    },
    {
      "cell_type": "markdown",
      "source": [
        "### Esto es cierto para cualquier par de vectores"
      ],
      "metadata": {
        "id": "0O2U9oJXKU2P"
      }
    },
    {
      "cell_type": "markdown",
      "source": [
        "## Pregunta 5\n",
        "\n",
        "¿Es verdad que $$2\\begin{pmatrix}\\begin{pmatrix}1\\\\-1\\\\\\end{pmatrix}+\\begin{pmatrix}4\\\\5\\\\\\end{pmatrix}\\end{pmatrix}=2\\begin{pmatrix}1\\\\-1\\\\\\end{pmatrix}+2\\begin{pmatrix}4\\\\5\\\\\\end{pmatrix}$$\n",
        "\n",
        "¿Es una regla general para cualquier par de vectores? ¿Y si cambiamos el escalar 2 por otro número?\n"
      ],
      "metadata": {
        "id": "1a0fVciCKYPF"
      }
    },
    {
      "cell_type": "code",
      "source": [
        "m=Vector([1,-1])\n",
        "n=Vector([4,5])\n",
        "display(Latex(latex(2*(m+n))))\n",
        "display(Latex(latex((2*m)+(2*n))))\n",
        "display(Latex(latex(3*(m+n))))\n",
        "display(Latex(latex((3*m)+(3*n))))\n"
      ],
      "metadata": {
        "colab": {
          "base_uri": "https://localhost:8080/",
          "height": 180
        },
        "id": "oLNY1L9KKbcO",
        "outputId": "c76ff35c-8de5-4544-d316-945d28647aea"
      },
      "execution_count": null,
      "outputs": [
        {
          "output_type": "display_data",
          "data": {
            "text/plain": [
              "<IPython.core.display.Latex object>"
            ],
            "text/latex": "\\begin{pmatrix}10\\\\ 8\\end{pmatrix}"
          },
          "metadata": {}
        },
        {
          "output_type": "display_data",
          "data": {
            "text/plain": [
              "<IPython.core.display.Latex object>"
            ],
            "text/latex": "\\begin{pmatrix}10\\\\ 8\\end{pmatrix}"
          },
          "metadata": {}
        },
        {
          "output_type": "display_data",
          "data": {
            "text/plain": [
              "<IPython.core.display.Latex object>"
            ],
            "text/latex": "\\begin{pmatrix}15\\\\ 12\\end{pmatrix}"
          },
          "metadata": {}
        },
        {
          "output_type": "display_data",
          "data": {
            "text/plain": [
              "<IPython.core.display.Latex object>"
            ],
            "text/latex": "\\begin{pmatrix}15\\\\ 12\\end{pmatrix}"
          },
          "metadata": {}
        }
      ]
    },
    {
      "cell_type": "markdown",
      "source": [
        "### Esta regla es correcta para cualquier par de vectores, cumpliendose tambien si se cambia a escalar"
      ],
      "metadata": {
        "id": "uS8fQWmSKnai"
      }
    },
    {
      "cell_type": "markdown",
      "source": [
        "## Pregunta 6\n",
        "\n",
        "¿Es verdad que $$(2+3)\\begin{pmatrix}1\\\\2\\\\3\\\\\\end{pmatrix}=2\\begin{pmatrix}1\\\\2\\\\3\\\\\\end{pmatrix}+3\\begin{pmatrix}1\\\\2\\\\3\\\\\\end{pmatrix}$$\n",
        "\n",
        "¿Es una regla general para cualquier par de vectores? ¿y si cambiamos los escalares **2** y **3** por otros números?"
      ],
      "metadata": {
        "id": "Ds4orpQaKyf8"
      }
    },
    {
      "cell_type": "code",
      "source": [
        "m=Vector([1,2,3])\n",
        "display(Latex(latex((2+3)*m)))\n",
        "display(Latex(latex((2*m)+(3*m))))\n",
        "display(Latex(latex((4+5)*m)))\n",
        "display(Latex(latex((4*m)+(5*m))))"
      ],
      "metadata": {
        "colab": {
          "base_uri": "https://localhost:8080/",
          "height": 261
        },
        "id": "aQG428A6K0n9",
        "outputId": "4ff59794-0bd3-44cb-d210-18b618822eb3"
      },
      "execution_count": null,
      "outputs": [
        {
          "output_type": "display_data",
          "data": {
            "text/plain": [
              "<IPython.core.display.Latex object>"
            ],
            "text/latex": "\\begin{pmatrix}5\\\\ 10\\\\ 15\\end{pmatrix}"
          },
          "metadata": {}
        },
        {
          "output_type": "display_data",
          "data": {
            "text/plain": [
              "<IPython.core.display.Latex object>"
            ],
            "text/latex": "\\begin{pmatrix}5\\\\ 10\\\\ 15\\end{pmatrix}"
          },
          "metadata": {}
        },
        {
          "output_type": "display_data",
          "data": {
            "text/plain": [
              "<IPython.core.display.Latex object>"
            ],
            "text/latex": "\\begin{pmatrix}9\\\\ 18\\\\ 27\\end{pmatrix}"
          },
          "metadata": {}
        },
        {
          "output_type": "display_data",
          "data": {
            "text/plain": [
              "<IPython.core.display.Latex object>"
            ],
            "text/latex": "\\begin{pmatrix}9\\\\ 18\\\\ 27\\end{pmatrix}"
          },
          "metadata": {}
        }
      ]
    },
    {
      "cell_type": "markdown",
      "source": [
        "### Es una regla para cualquier par de vectores, inclusive si se cambian a escalares"
      ],
      "metadata": {
        "id": "aZN-Y5MqK-Tz"
      }
    },
    {
      "cell_type": "markdown",
      "source": [
        "## Pregunta 7\n",
        "\n",
        "¿Es verdad que $$2(3\\begin{pmatrix}1\\\\2\\\\\\end{pmatrix})=(2*3)\\begin{pmatrix}1\\\\2\\\\\\end{pmatrix}$$\n",
        "\n",
        "¿Es una regla general para cualquier par de vectores? ¿y si cambiamos los escalares **2** y **3** por otros números?\n"
      ],
      "metadata": {
        "id": "twclitOLLDRv"
      }
    },
    {
      "cell_type": "code",
      "source": [
        "m=Vector([1,2])\n",
        "display(Latex(latex((2*(3*m)))))\n",
        "display(Latex(latex((2*3)*m)))\n",
        "display(Latex(latex((4*(5*m)))))\n",
        "display(Latex(latex((4*5)*m)))"
      ],
      "metadata": {
        "colab": {
          "base_uri": "https://localhost:8080/",
          "height": 180
        },
        "id": "M_Gd29mkLFcS",
        "outputId": "8d5c1db1-3ae2-44b1-c67e-9de9de7ce57e"
      },
      "execution_count": null,
      "outputs": [
        {
          "output_type": "display_data",
          "data": {
            "text/plain": [
              "<IPython.core.display.Latex object>"
            ],
            "text/latex": "\\begin{pmatrix}6\\\\ 12\\end{pmatrix}"
          },
          "metadata": {}
        },
        {
          "output_type": "display_data",
          "data": {
            "text/plain": [
              "<IPython.core.display.Latex object>"
            ],
            "text/latex": "\\begin{pmatrix}6\\\\ 12\\end{pmatrix}"
          },
          "metadata": {}
        },
        {
          "output_type": "display_data",
          "data": {
            "text/plain": [
              "<IPython.core.display.Latex object>"
            ],
            "text/latex": "\\begin{pmatrix}20\\\\ 40\\end{pmatrix}"
          },
          "metadata": {}
        },
        {
          "output_type": "display_data",
          "data": {
            "text/plain": [
              "<IPython.core.display.Latex object>"
            ],
            "text/latex": "\\begin{pmatrix}20\\\\ 40\\end{pmatrix}"
          },
          "metadata": {}
        }
      ]
    },
    {
      "cell_type": "markdown",
      "source": [
        "### Comprobamos que si es una regla para cualquier par de vectores, inclusive si lo cambiamos a escalares\n"
      ],
      "metadata": {
        "id": "owuUh6gVLKnk"
      }
    },
    {
      "cell_type": "markdown",
      "source": [
        "## Pregunta 8\n",
        "\n",
        "¿Es verdad que si *a = 1* $$a\\begin{pmatrix}1\\\\2\\\\3\\\\\\end{pmatrix}=\\begin{pmatrix}1\\\\2\\\\3\\\\\\end{pmatrix}$$\n",
        "\n",
        "¿Es cierto solo para el escalar *a = 1*?\n"
      ],
      "metadata": {
        "id": "FYARPe3PLaJP"
      }
    },
    {
      "cell_type": "code",
      "source": [
        "a=Vector([1,2,3])\n",
        "display(Latex(latex(1*a)))"
      ],
      "metadata": {
        "colab": {
          "base_uri": "https://localhost:8080/",
          "height": 78
        },
        "id": "yGzZ5sSqLex2",
        "outputId": "3e10dbe1-a17e-4682-d8cb-2e1931827783"
      },
      "execution_count": null,
      "outputs": [
        {
          "output_type": "display_data",
          "data": {
            "text/plain": [
              "<IPython.core.display.Latex object>"
            ],
            "text/latex": "\\begin{pmatrix}1\\\\ 2\\\\ 3\\end{pmatrix}"
          },
          "metadata": {}
        }
      ]
    },
    {
      "cell_type": "markdown",
      "source": [
        "### Solo es correcto para el escalar *a = 1* ya que si se cambia el valor del escalar nos dará un vector distinto"
      ],
      "metadata": {
        "id": "9jHx2QAYL1HG"
      }
    }
  ]
}